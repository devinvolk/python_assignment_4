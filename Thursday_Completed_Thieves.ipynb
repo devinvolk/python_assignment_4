{
 "cells": [
  {
   "cell_type": "markdown",
   "metadata": {},
   "source": [
    "# Object-Oriented-Programming (OOP)"
   ]
  },
  {
   "cell_type": "markdown",
   "metadata": {},
   "source": [
    "## Tasks Today:\n",
    "\n",
    "   \n",
    "\n",
    "1) <b>Creating a Class (Initializing/Declaring)</b> <br>\n",
    "2) <b>Using a Class (Instantiating)</b> <br>\n",
    " &nbsp;&nbsp;&nbsp;&nbsp; a) Creating One Instance <br>\n",
    " &nbsp;&nbsp;&nbsp;&nbsp; b) Creating Multiple Instances <br>\n",
    " &nbsp;&nbsp;&nbsp;&nbsp; c) In-Class Exercise #1 - Create a Class 'Car' and instantiate three different makes of cars <br>\n",
    "3) <b>The \\__init\\__() Method</b> <br>\n",
    " &nbsp;&nbsp;&nbsp;&nbsp; a) The 'self' Attribute <br>\n",
    "4) <b>Class Attributes</b> <br>\n",
    " &nbsp;&nbsp;&nbsp;&nbsp; a) Initializing Attributes <br>\n",
    " &nbsp;&nbsp;&nbsp;&nbsp; b) Setting an Attribute Outside of the \\__init\\__() Method <br>\n",
    " &nbsp;&nbsp;&nbsp;&nbsp; c) Setting Defaults for Attributes <br>\n",
    " &nbsp;&nbsp;&nbsp;&nbsp; d) Accessing Class Attributes <br>\n",
    " &nbsp;&nbsp;&nbsp;&nbsp; e) Changing Class Attributes <br>\n",
    " &nbsp;&nbsp;&nbsp;&nbsp; f) In-Class Exercise #2 - Add a color and wheels attribute to your 'Car' class <br>\n",
    "5) <b>Class Methods</b> <br>\n",
    " &nbsp;&nbsp;&nbsp;&nbsp; a) Creating <br>\n",
    " &nbsp;&nbsp;&nbsp;&nbsp; b) Calling <br>\n",
    " &nbsp;&nbsp;&nbsp;&nbsp; c) Modifying an Attribute's Value Through a Method <br>\n",
    " &nbsp;&nbsp;&nbsp;&nbsp; d) Incrementing an Attribute's Value Through a Method <br>\n",
    " &nbsp;&nbsp;&nbsp;&nbsp; e) In-Class Exercise #3 - Add a method that prints the cars color and wheel number, then call them <br>\n",
    "6) <b>Inheritance</b> <br>\n",
    " &nbsp;&nbsp;&nbsp;&nbsp; a) Syntax for Inheriting from a Parent Class <br>\n",
    " &nbsp;&nbsp;&nbsp;&nbsp; b) The \\__init\\__() Method for a Child Class (super()) <br>\n",
    " &nbsp;&nbsp;&nbsp;&nbsp; c) Defining Attributes and Methods for the Child Class <br>\n",
    " &nbsp;&nbsp;&nbsp;&nbsp; d) Method Overriding <br>\n",
    " &nbsp;&nbsp;&nbsp;&nbsp; e) In-Class Exercise #4 - Create a class 'Ford' that inherits from 'Car' class and initialize it as a Blue Ford Explorer with 4 wheels using the super() method <br>\n",
    "7) <b>Classes as Attributes</b> <br>\n",
    "8) <b>Exercises</b> <br>\n",
    " &nbsp;&nbsp;&nbsp;&nbsp; a) Exercise #1 - Turn the shopping cart program from yesterday into an object-oriented program <br>"
   ]
  },
  {
   "cell_type": "markdown",
   "metadata": {},
   "source": [
    "## Creating a Class (Initializing/Declaring)\n",
    "<p>When creating a class, function, or even a variable you are initializing that object. Initializing and Declaring occur at the same time in Python, whereas in lower level languages you have to declare an object before initializing it. This is the first step in the process of using a class.</p>"
   ]
  },
  {
   "cell_type": "code",
   "execution_count": 26,
   "metadata": {},
   "outputs": [
    {
     "data": {
      "text/plain": [
       "type"
      ]
     },
     "execution_count": 26,
     "metadata": {},
     "output_type": "execute_result"
    }
   ],
   "source": [
    "class Car():\n",
    "    wheels = 4\n",
    "    color = 'blue'\n",
    "\n",
    "type(Car)"
   ]
  },
  {
   "cell_type": "markdown",
   "metadata": {},
   "source": [
    "## Using a Class (Instantiating)\n",
    "<p>The process of creating a class is called <i>Instantiating</i>. Each time you create a variable of that type of class, it is referred to as an <i>Instance</i> of that class. This is the second step in the process of using a class.</p>"
   ]
  },
  {
   "cell_type": "markdown",
   "metadata": {},
   "source": [
    "##### Creating One Instance"
   ]
  },
  {
   "cell_type": "code",
   "execution_count": 19,
   "metadata": {},
   "outputs": [
    {
     "name": "stdout",
     "output_type": "stream",
     "text": [
      "blue\n"
     ]
    }
   ],
   "source": [
    "ford = Car()\n",
    "\n",
    "print(ford.color)"
   ]
  },
  {
   "cell_type": "markdown",
   "metadata": {},
   "source": [
    "##### Creating Multiple Instances"
   ]
  },
  {
   "cell_type": "code",
   "execution_count": 20,
   "metadata": {},
   "outputs": [
    {
     "name": "stdout",
     "output_type": "stream",
     "text": [
      "blue\n"
     ]
    }
   ],
   "source": [
    "nissan = Car()\n",
    "chevy = Car()\n",
    "lambo = Car()\n",
    "\n",
    "print(nissan.color)"
   ]
  },
  {
   "cell_type": "markdown",
   "metadata": {},
   "source": [
    "##### In-Class Exercise #1 - Create a Class 'Car' and Instantiate three different makes of cars"
   ]
  },
  {
   "cell_type": "code",
   "execution_count": 4,
   "metadata": {},
   "outputs": [],
   "source": [
    "class Car():\n",
    "    color = 'white'\n",
    "    good_in_snow = True\n",
    "\n",
    "suburu = Car()\n",
    "toyota = Car()\n",
    "audi = Car()"
   ]
  },
  {
   "cell_type": "markdown",
   "metadata": {},
   "source": [
    "## The \\__init\\__() Method <br>\n",
    "<p>This method is used in almost every created class, and called only once upon the creation of the class instance. This method will initialize all variables needed for the object.</p>"
   ]
  },
  {
   "cell_type": "code",
   "execution_count": 30,
   "metadata": {},
   "outputs": [],
   "source": [
    "class Car():\n",
    "    wheels = 4 # class-attribute\n",
    "    def __init__(self, make, model, color, engine): #instance-attributes\n",
    "        self.make = make\n",
    "        self.model = model\n",
    "        self.color = color\n",
    "        self.engine = engine\n",
    "\n",
    "nissan = Car('nissan', '370z', 'black', 'V6')\n",
    "chevy = Car('chevy', 'camero', 'yellow', 'V8')\n"
   ]
  },
  {
   "cell_type": "code",
   "execution_count": 28,
   "metadata": {},
   "outputs": [
    {
     "name": "stdout",
     "output_type": "stream",
     "text": [
      "The Seahawks are from Seattle\n",
      "The Giants are from New York\n"
     ]
    }
   ],
   "source": [
    "class NflTeams():\n",
    "    country = 'america'\n",
    "    def __init__(self, city, name):\n",
    "        self.city = city\n",
    "        self.name = name\n",
    "\n",
    "    def printInfo(self):\n",
    "        print(f'The {self.name} are from {self.city}')\n",
    "    \n",
    "team1 = NflTeams('Seattle', 'Seahawks')\n",
    "team2 = NflTeams('New York', 'Giants')\n",
    "\n",
    "team1.printInfo()\n",
    "team2.printInfo()\n"
   ]
  },
  {
   "cell_type": "markdown",
   "metadata": {},
   "source": [
    "##### The 'self' Attribute <br>\n",
    "<p>This attribute is required to keep track of specific instance's attributes. Without the self attribute, the program would not know how to reference or keep track of an instance's attributes.</p>"
   ]
  },
  {
   "cell_type": "code",
   "execution_count": null,
   "metadata": {},
   "outputs": [],
   "source": [
    "# see above"
   ]
  },
  {
   "cell_type": "markdown",
   "metadata": {},
   "source": [
    "## Class Attributes <br>\n",
    "<p>While variables are inside of a class, they are referred to as attributes and not variables. When someone says 'attribute' you know they're speaking about a class. Attributes can be initialized through the init method, or outside of it.</p>"
   ]
  },
  {
   "cell_type": "markdown",
   "metadata": {},
   "source": [
    "##### Initializing Attributes"
   ]
  },
  {
   "cell_type": "code",
   "execution_count": null,
   "metadata": {},
   "outputs": [],
   "source": [
    "# see above"
   ]
  },
  {
   "cell_type": "markdown",
   "metadata": {},
   "source": [
    "##### Accessing Class Attributes"
   ]
  },
  {
   "cell_type": "code",
   "execution_count": null,
   "metadata": {
    "scrolled": true
   },
   "outputs": [],
   "source": [
    "# See Above"
   ]
  },
  {
   "cell_type": "markdown",
   "metadata": {},
   "source": [
    "##### Setting Defaults for Attributes"
   ]
  },
  {
   "cell_type": "code",
   "execution_count": 52,
   "metadata": {},
   "outputs": [
    {
     "data": {
      "text/plain": [
       "{'city': 'Austin', 'name': 'Steelers', 'year': 2022, 'country': 'america'}"
      ]
     },
     "execution_count": 52,
     "metadata": {},
     "output_type": "execute_result"
    }
   ],
   "source": [
    "class NflTeams():\n",
    "    # This works\n",
    "    # country = 'america'\n",
    "    def __init__(self, city, name, year=2022, country='america'):\n",
    "        self.city = city\n",
    "        self.name = name\n",
    "        self.year = year\n",
    "        self.country = country\n",
    "\n",
    "    def printInfo(self):\n",
    "        print(f'The {self.name} are from {self.city}')\n",
    "\n",
    "steelers = NflTeams('Pittsburgh', 'Steelers')\n",
    "steelers.city\n",
    "steelers.year\n",
    "steelers.__dict__\n",
    "\n",
    "# Changing a Instance Attribute\n",
    "steelers.city = 'Austin'\n",
    "steelers.__dict__\n",
    "\n",
    "# class Car():\n",
    "#     def __init__(self):\n",
    "#         pass\n"
   ]
  },
  {
   "cell_type": "markdown",
   "metadata": {},
   "source": [
    "##### Changing Instance Attributes <br>\n",
    "<p>Keep in mind there are global class attributes and then there are attributes only available to each class instance which won't effect other classes.</p>"
   ]
  },
  {
   "cell_type": "code",
   "execution_count": null,
   "metadata": {},
   "outputs": [],
   "source": [
    "# See above"
   ]
  },
  {
   "cell_type": "markdown",
   "metadata": {},
   "source": [
    "##### In-Class Exercise #2 - Add a doors and seats attribute to your 'Car' class then print out two different instances with different doors and seats"
   ]
  },
  {
   "cell_type": "code",
   "execution_count": 6,
   "metadata": {},
   "outputs": [
    {
     "name": "stdout",
     "output_type": "stream",
     "text": [
      "The Crosstrek has 4 doors and 5 seats\n",
      "The Q5 has 4 doors and 5 seats\n"
     ]
    }
   ],
   "source": [
    "class Car():\n",
    "    color = 'white'\n",
    "    good_in_snow = True\n",
    "    def __init__(self, model,  doors, seats):\n",
    "        self.model = model\n",
    "        self.doors = doors\n",
    "        self.seats = seats\n",
    "    def printInfo(self):\n",
    "        print(f'The {self.model} has {self.doors} doors and {self.seats} seats')\n",
    "\n",
    "suburu = Car(\"Crosstrek\", 4, 5)\n",
    "toyota = Car(\"Tacoma\", 4, 5)\n",
    "audi = Car(\"Q5\", 4, 5)\n",
    "\n",
    "suburu.printInfo()\n",
    "audi.printInfo()"
   ]
  },
  {
   "cell_type": "markdown",
   "metadata": {},
   "source": [
    "## Class Methods <br>\n",
    "<p>While inside of a class, functions are referred to as 'methods'. If you hear someone mention methods, they're speaking about classes. Methods are essentially functions, but only callable on the instances of a class.</p>"
   ]
  },
  {
   "cell_type": "markdown",
   "metadata": {},
   "source": [
    "##### Creating"
   ]
  },
  {
   "cell_type": "code",
   "execution_count": 17,
   "metadata": {},
   "outputs": [
    {
     "name": "stdout",
     "output_type": "stream",
     "text": [
      "lebron james has been added to the LA Lakers!\n",
      "Your current roster is {'lebron james': 23}\n",
      "You currently have 1 players on your team! \n",
      "---------- Current Roster for the LA Lakers! -----------------\n",
      "lebron james 23\n",
      "You currently have 1 players on your team! \n",
      "---------- Current Roster for the LA Lakers! -----------------\n",
      "lebron james 23\n",
      "Good luck this season!\n"
     ]
    }
   ],
   "source": [
    "class Roster():\n",
    "    def __init__(self, city, team_name, country='United States'):\n",
    "        self.city = city\n",
    "        self.team_name = team_name\n",
    "        self.country = country\n",
    "        self.depth_chart = {}\n",
    "        self.number_of_players = 0\n",
    "    \n",
    "    def addPlayer(self):\n",
    "        name = input('What is the players name that you would like to add? ')\n",
    "        number = int(input(f'What jersey number will {name} have? '))\n",
    "        self.depth_chart[name] = number\n",
    "        self.number_of_players += 1\n",
    "        print(f'{name} has been added to the {self.city} {self.team_name}!')\n",
    "        print(f'Your current roster is {self.depth_chart}')\n",
    "    \n",
    "    def deletePlayer(self):\n",
    "        player = input('What player would you like to delete? ')\n",
    "        if name in self.depth_chart:\n",
    "            print(f'{self.depth_chart[player]} has been removed from the roster!')\n",
    "            del self.depth_chart[player]\n",
    "            self.number_of_players -= 1\n",
    "        else:\n",
    "            print(f'{name} is not on your team')\n",
    "    \n",
    "    def showPlayers(self):\n",
    "        print(f'You currently have {self.number_of_players} players on your team! ')\n",
    "        print(f'---------- Current Roster for the {self.city} {self.team_name}! -----------------')\n",
    "        for key,value in self.depth_chart.items():\n",
    "            print(key,value)\n",
    "        \n",
    "\n",
    "    def runner(self):\n",
    "        while True:\n",
    "            user_choice = input('What would you like to do? (add,delete,show, or quit)? ')\n",
    "            if user_choice == 'quit':\n",
    "                roster1.showPlayers()\n",
    "                print('Good luck this season!')\n",
    "                break  \n",
    "            elif user_choice == 'add':\n",
    "                roster1.addPlayer()\n",
    "            elif user_choice == 'delete':\n",
    "                roster1.deletePlayer()\n",
    "            elif user_choice == 'show':\n",
    "                roster1.showPlayers()\n",
    "            else:\n",
    "                print('Not a valid option, please try again')\n",
    "\n",
    "roster1 = Roster('LA', 'Lakers')\n",
    "roster1.runner()\n",
    "\n",
    "\n",
    "# roster1.city = 'Oakland'\n",
    "# print(roster1.__dict__)\n"
   ]
  },
  {
   "cell_type": "markdown",
   "metadata": {},
   "source": [
    "##### Calling"
   ]
  },
  {
   "cell_type": "code",
   "execution_count": null,
   "metadata": {},
   "outputs": [],
   "source": [
    "# See Above"
   ]
  },
  {
   "cell_type": "markdown",
   "metadata": {},
   "source": [
    "##### Modifying an Attribute's Value Through a Method"
   ]
  },
  {
   "cell_type": "code",
   "execution_count": null,
   "metadata": {},
   "outputs": [],
   "source": [
    "# see above\n",
    "# modifying the self.depth_chart attribute"
   ]
  },
  {
   "cell_type": "markdown",
   "metadata": {},
   "source": [
    "##### Incrementing an Attribute's Value Through a Method"
   ]
  },
  {
   "cell_type": "code",
   "execution_count": null,
   "metadata": {},
   "outputs": [],
   "source": [
    "# see above\n",
    "# incrementing the self.number_of_players attribute"
   ]
  },
  {
   "cell_type": "markdown",
   "metadata": {},
   "source": [
    "## Inheritance <br>\n",
    "<p>You can create a child-parent relationship between two classes by using inheritance. What this allows you to do is have overriding methods, but also inherit traits from the parent class. Think of it as an actual parent and child, the child will inherit the parent's genes, as will the classes in OOP</p>"
   ]
  },
  {
   "cell_type": "markdown",
   "metadata": {},
   "source": [
    "##### Syntax for Inheriting from a Parent Class"
   ]
  },
  {
   "cell_type": "code",
   "execution_count": 13,
   "metadata": {},
   "outputs": [
    {
     "data": {
      "text/plain": [
       "'This is a Medium sized German Shepherd with 4 legs, that is named Alpha.'"
      ]
     },
     "execution_count": 13,
     "metadata": {},
     "output_type": "execute_result"
    }
   ],
   "source": [
    "class Animal(): # Parent Class\n",
    "    def __init__(self, name, species, legs=4):\n",
    "        self.name = name\n",
    "        self.species = species\n",
    "        self.legs = legs\n",
    "    \n",
    "    def printInfoParent(self):\n",
    "        return 'printing from parent class'\n",
    "    \n",
    "class Dog(Animal): # Child Class\n",
    "    def __init__(self, name, dog_type, size, legs=4):\n",
    "        super().__init__(name, legs)\n",
    "        self.dog_type = dog_type\n",
    "        self.size = size\n",
    "\n",
    "    def printInfoChild(self):\n",
    "        return f'This is a {self.size} sized {self.dog_type} with {self.legs} legs, that is named {self.name}.'\n",
    "\n",
    "christians_dog = Dog('Alpha', 'German Shepherd', 'Medium')\n",
    "\n",
    "christians_dog.printInfoParent()\n",
    "christians_dog.printInfoChild()"
   ]
  },
  {
   "cell_type": "markdown",
   "metadata": {},
   "source": [
    "##### The \\__init\\__() Method for a Child Class - super()"
   ]
  },
  {
   "cell_type": "code",
   "execution_count": null,
   "metadata": {
    "scrolled": true
   },
   "outputs": [],
   "source": [
    "# see above"
   ]
  },
  {
   "cell_type": "markdown",
   "metadata": {},
   "source": [
    "##### Defining Attributes and Methods for the Child Class"
   ]
  },
  {
   "cell_type": "code",
   "execution_count": null,
   "metadata": {},
   "outputs": [],
   "source": [
    "# See Above"
   ]
  },
  {
   "cell_type": "markdown",
   "metadata": {},
   "source": [
    "## Classes as Attributes <br>\n",
    "<p>Classes can also be used as attributes within another class. This is useful in situations where you need to keep variables locally stored, instead of globally stored.</p>"
   ]
  },
  {
   "cell_type": "code",
   "execution_count": 13,
   "metadata": {},
   "outputs": [
    {
     "data": {
      "text/plain": [
       "'V6'"
      ]
     },
     "execution_count": 13,
     "metadata": {},
     "output_type": "execute_result"
    }
   ],
   "source": [
    "class Engine(): # parent class\n",
    "    def __init__(self, engine):\n",
    "        self.engine = engine\n",
    "\n",
    "class Car(Engine): # child class\n",
    "    def __init__(self, make, model, year, engine):\n",
    "        super().__init__(engine)\n",
    "        self.make = make\n",
    "        self.model = model\n",
    "        self.year = year\n",
    "    \n",
    "    def printInfo(self):\n",
    "        return f'This is a {self.year} {self.make} {self.model}'\n",
    "\n",
    "v8_engine = Engine('V8')\n",
    "v6_engine = Engine('V6')\n",
    "    \n",
    "dylans_car = Car('Dodge', 'Challenger', 1970, v8_engine.engine)\n",
    "christians_car = Car('Nissan', '370z', 2012, v6_engine.engine)\n",
    "\n",
    "dylans_car.printInfo()\n",
    "dylans_car.engine\n",
    "\n",
    "christians_car.printInfo()\n",
    "christians_car.engine\n"
   ]
  },
  {
   "cell_type": "markdown",
   "metadata": {},
   "source": [
    "# Exercises"
   ]
  },
  {
   "cell_type": "markdown",
   "metadata": {},
   "source": [
    "### Exercise 1 - Turn the shopping cart program from yesterday into an object-oriented program\n",
    "\n",
    "The comments in the cell below are there as a guide for thinking about the problem. However, if you feel a different way is best for you and your own thought process, please do what feels best for you by all means."
   ]
  },
  {
   "cell_type": "code",
   "execution_count": 26,
   "metadata": {},
   "outputs": [
    {
     "name": "stdout",
     "output_type": "stream",
     "text": [
      "Bananas added to your list\n",
      "Grapes added to your list\n",
      "['bananas', 'grapes']\n",
      "Bananas\n",
      "Grapes\n"
     ]
    }
   ],
   "source": [
    "class Cart():\n",
    "    def __init__(self):\n",
    "        self.shopping_list = []\n",
    "\n",
    "    def showItems(self):\n",
    "        if self.shopping_list == False:\n",
    "                print(\"Your shopping list is empty\")\n",
    "        else:\n",
    "            print(self.shopping_list)\n",
    "\n",
    "    def addItems(self):\n",
    "        while True:\n",
    "                item = (input(\"What item would you like to add? \").lower())\n",
    "                self.shopping_list.append(item)\n",
    "                print(item.title() + \" added to your list\")\n",
    "                answer2 = input(\"Would you like to add another item? (Y/N) \").lower()\n",
    "                if answer2 == 'y':\n",
    "                    continue\n",
    "                else:\n",
    "                    break\n",
    "\n",
    "    def deleteItems(self):\n",
    "        while True:\n",
    "                item = (input(\"What item would you like to remove? \").lower())\n",
    "                #checks to see if the item is in the list\n",
    "                try:\n",
    "                    self.shopping_list.remove(item)\n",
    "                except ValueError:\n",
    "                    #statement if the item isn't in the list\n",
    "                    print(\"The item you are trying to remove is not in your list. Please try again\")\n",
    "                else:\n",
    "                    #code runs if item was in the list\n",
    "                    print(item.title() + \" removed from your list\")\n",
    "                    answer3 = input(\"Would you like to remove another item? (Y/N) \").lower()\n",
    "                    if answer3 == 'y':\n",
    "                        continue\n",
    "                    if answer3 == 'n':\n",
    "                        break\n",
    "\n",
    "    def runner(self):\n",
    "        while True:\n",
    "            answer = input('Do you want to: Show/Add/Delete or Quit ').lower()\n",
    "            if answer == 'show':\n",
    "                list1.showItems()\n",
    "            elif answer == 'add':\n",
    "                list1.addItems()\n",
    "            elif answer == 'delete':\n",
    "                list1.deleteItems()\n",
    "            elif answer == 'quit':\n",
    "                for index in range(len(self.shopping_list)):\n",
    "                    print(self.shopping_list[index].title())\n",
    "                break\n",
    "            else:\n",
    "                print(\"Your input was not recognized. Please try again: \")\n",
    "\n",
    "list1 = Cart()\n",
    "list1.runner()"
   ]
  },
  {
   "cell_type": "markdown",
   "metadata": {},
   "source": [
    "### Exercise 2 - Write a Python class which has two methods get_String and print_String. get_String accept a string from the user and print_String print the string in upper case"
   ]
  },
  {
   "cell_type": "code",
   "execution_count": 22,
   "metadata": {},
   "outputs": [
    {
     "name": "stdout",
     "output_type": "stream",
     "text": [
      "HELLO MY DUDE\n"
     ]
    }
   ],
   "source": [
    "class Stringy():\n",
    "    def __init__(self):\n",
    "        self.message = ''\n",
    "    \n",
    "    def get_String(self):\n",
    "        self.message = input(\"What would you like to say? \")\n",
    "    \n",
    "    def print_String(self):\n",
    "        print(self.message.upper())\n",
    "\n",
    "user1 = Stringy()\n",
    "user1.get_String()\n",
    "user1.print_String()"
   ]
  }
 ],
 "metadata": {
  "kernelspec": {
   "display_name": "Python 3",
   "language": "python",
   "name": "python3"
  },
  "language_info": {
   "codemirror_mode": {
    "name": "ipython",
    "version": 3
   },
   "file_extension": ".py",
   "mimetype": "text/x-python",
   "name": "python",
   "nbconvert_exporter": "python",
   "pygments_lexer": "ipython3",
   "version": "3.10.9"
  },
  "vscode": {
   "interpreter": {
    "hash": "aee8b7b246df8f9039afb4144a1f6fd8d2ca17a180786b69acc140d282b71a49"
   }
  }
 },
 "nbformat": 4,
 "nbformat_minor": 2
}
